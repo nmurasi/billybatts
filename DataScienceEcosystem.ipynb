{
 "cells": [
  {
   "cell_type": "markdown",
   "id": "6fc3e3d3-5566-485c-b774-cf71bab027fa",
   "metadata": {},
   "source": [
    "# Data Science Tools and Ecosystem"
   ]
  },
  {
   "cell_type": "markdown",
   "id": "304b7f39-1866-4907-9537-88fd0dd5f661",
   "metadata": {},
   "source": [
    "In this notebook, Data Science Tools and Ecosystem are summarised"
   ]
  },
  {
   "cell_type": "markdown",
   "id": "2be08781-2a6b-4b69-ac29-ae20f27c60f0",
   "metadata": {},
   "source": [
    "**Objectives**\n",
    "- Listing popular languages that Data Scientist use\n",
    "- Listing commonly used libraries\n",
    "- Evaluating arithmetic expressions\n",
    "- Converting minutes to hours in a code cell\n",
    "  "
   ]
  },
  {
   "cell_type": "markdown",
   "id": "77806337-b860-41c9-b0cf-e55c666e8db3",
   "metadata": {},
   "source": [
    "Some of the popular languages that Data Scientist use are;\n",
    "1. Java\n",
    "1. Python\n",
    "1. JavaScript\n",
    "1. SQL\n",
    "\n"
   ]
  },
  {
   "cell_type": "markdown",
   "id": "9e294ff1-adfb-4557-8201-dec11c008383",
   "metadata": {},
   "source": [
    "Some of the commonly used libraries used by Data Scientist include:\n",
    "1. Matplotlib\n",
    "1. NumPy\n",
    "1. Pandas"
   ]
  },
  {
   "cell_type": "markdown",
   "id": "935911ee-07c1-4550-b265-4f00dbd3db03",
   "metadata": {},
   "source": [
    "|Data Science Tools|\n",
    "|------------------|\n",
    "|R   |\n",
    "|Pandas |\n",
    "|Python |"
   ]
  },
  {
   "cell_type": "markdown",
   "id": "a0c5f51b-b0c1-4b0d-8ccb-aabaaca55749",
   "metadata": {},
   "source": [
    "### Below are few examples of evaluating arithmetric expressions in Python;"
   ]
  },
  {
   "cell_type": "code",
   "execution_count": 9,
   "id": "e389f2cb-5b6b-4999-8fd5-da39f73f7c4c",
   "metadata": {},
   "outputs": [
    {
     "data": {
      "text/plain": [
       "17"
      ]
     },
     "execution_count": 9,
     "metadata": {},
     "output_type": "execute_result"
    }
   ],
   "source": [
    "#This is a simple arithmetric expression to multiply then add integers:\n",
    "(3*4)+5"
   ]
  },
  {
   "cell_type": "code",
   "execution_count": 11,
   "id": "c84e327c-af82-4146-9657-50161dc8480e",
   "metadata": {},
   "outputs": [
    {
     "data": {
      "text/plain": [
       "3.3333333333333335"
      ]
     },
     "execution_count": 11,
     "metadata": {},
     "output_type": "execute_result"
    }
   ],
   "source": [
    "#This will convert 200 minutes into hours by dividing by 60;\n",
    "200/60"
   ]
  },
  {
   "cell_type": "markdown",
   "id": "605de02d-5f7b-4e1f-8799-902146278b74",
   "metadata": {},
   "source": [
    "## Author\n",
    "Ngoni Murasiranwa"
   ]
  },
  {
   "cell_type": "code",
   "execution_count": null,
   "id": "bfba64e1-c491-4c86-81f8-b8e552285189",
   "metadata": {},
   "outputs": [],
   "source": []
  }
 ],
 "metadata": {
  "kernelspec": {
   "display_name": "Python 3 (ipykernel)",
   "language": "python",
   "name": "python3"
  },
  "language_info": {
   "codemirror_mode": {
    "name": "ipython",
    "version": 3
   },
   "file_extension": ".py",
   "mimetype": "text/x-python",
   "name": "python",
   "nbconvert_exporter": "python",
   "pygments_lexer": "ipython3",
   "version": "3.11.8"
  }
 },
 "nbformat": 4,
 "nbformat_minor": 5
}
